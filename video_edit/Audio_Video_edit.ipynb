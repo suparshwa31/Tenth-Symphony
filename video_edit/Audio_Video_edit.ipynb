{
  "cells": [
    {
      "cell_type": "markdown",
      "metadata": {
        "id": "g0WYs0_M_iKf"
      },
      "source": [
        "Function that takes in a video, removes the original audio of the video and replaces it with a new audio\n",
        "\n",
        "SOURCE : OpenAI. (2023). ChatGPT (September 25 Version) [Large language model]. https://chat.openai.com  \n",
        "Sample Video Source: pexels.com  \n",
        "        Sample audio source: https://www.videvo.net/"
      ]
    },
    {
      "cell_type": "code",
      "execution_count": 1,
      "metadata": {
        "colab": {
          "base_uri": "https://localhost:8080/"
        },
        "id": "tZiJt4w9g5AY",
        "outputId": "e5c53132-890f-4241-943b-e372beea0535"
      },
      "outputs": [
        {
          "name": "stdout",
          "output_type": "stream",
          "text": [
            "Requirement already satisfied: moviepy in c:\\users\\esty\\appdata\\local\\programs\\python\\python310\\lib\\site-packages (1.0.3)\n",
            "Note: you may need to restart the kernel to use updated packages.Requirement already satisfied: decorator<5.0,>=4.0.2 in c:\\users\\esty\\appdata\\local\\programs\\python\\python310\\lib\\site-packages (from moviepy) (4.4.2)\n",
            "Requirement already satisfied: tqdm<5.0,>=4.11.2 in c:\\users\\esty\\appdata\\local\\programs\\python\\python310\\lib\\site-packages (from moviepy) (4.66.1)\n",
            "Requirement already satisfied: requests<3.0,>=2.8.1 in c:\\users\\esty\\appdata\\local\\programs\\python\\python310\\lib\\site-packages (from moviepy) (2.27.1)\n",
            "Requirement already satisfied: proglog<=1.0.0 in c:\\users\\esty\\appdata\\local\\programs\\python\\python310\\lib\\site-packages (from moviepy) (0.1.10)\n",
            "Requirement already satisfied: numpy>=1.17.3 in c:\\users\\esty\\appdata\\local\\programs\\python\\python310\\lib\\site-packages (from moviepy) (1.22.2)\n",
            "Requirement already satisfied: imageio<3.0,>=2.5 in c:\\users\\esty\\appdata\\local\\programs\\python\\python310\\lib\\site-packages (from moviepy) (2.31.6)\n",
            "Requirement already satisfied: imageio-ffmpeg>=0.2.0 in c:\\users\\esty\\appdata\\local\\programs\\python\\python310\\lib\\site-packages (from moviepy) (0.4.9)\n",
            "Requirement already satisfied: pillow<10.1.0,>=8.3.2 in c:\\users\\esty\\appdata\\local\\programs\\python\\python310\\lib\\site-packages (from imageio<3.0,>=2.5->moviepy) (9.2.0)\n",
            "Requirement already satisfied: setuptools in c:\\users\\esty\\appdata\\local\\programs\\python\\python310\\lib\\site-packages (from imageio-ffmpeg>=0.2.0->moviepy) (57.4.0)\n",
            "Requirement already satisfied: urllib3<1.27,>=1.21.1 in c:\\users\\esty\\appdata\\local\\programs\\python\\python310\\lib\\site-packages (from requests<3.0,>=2.8.1->moviepy) (1.26.8)\n",
            "Requirement already satisfied: certifi>=2017.4.17 in c:\\users\\esty\\appdata\\local\\programs\\python\\python310\\lib\\site-packages (from requests<3.0,>=2.8.1->moviepy) (2021.10.8)\n",
            "Requirement already satisfied: charset-normalizer~=2.0.0 in c:\\users\\esty\\appdata\\local\\programs\\python\\python310\\lib\\site-packages (from requests<3.0,>=2.8.1->moviepy) (2.0.12)\n",
            "Requirement already satisfied: idna<4,>=2.5 in c:\\users\\esty\\appdata\\local\\programs\\python\\python310\\lib\\site-packages (from requests<3.0,>=2.8.1->moviepy) (3.3)\n",
            "Requirement already satisfied: colorama in c:\\users\\esty\\appdata\\roaming\\python\\python310\\site-packages (from tqdm<5.0,>=4.11.2->moviepy) (0.4.4)\n",
            "\n"
          ]
        },
        {
          "name": "stderr",
          "output_type": "stream",
          "text": [
            "\n",
            "[notice] A new release of pip is available: 23.2.1 -> 23.3.1\n",
            "[notice] To update, run: python.exe -m pip install --upgrade pip\n"
          ]
        }
      ],
      "source": [
        "#install required libraries\n",
        "%pip install moviepy"
      ]
    },
    {
      "cell_type": "code",
      "execution_count": 2,
      "metadata": {
        "id": "nnDqER7FAh56"
      },
      "outputs": [],
      "source": [
        "from moviepy.editor import VideoFileClip, AudioFileClip\n",
        "\n",
        "# function that changes the audio of a video\n",
        "def edit_audio(video_path, new_audio_path):\n",
        "  # Load the video file\n",
        "  video = VideoFileClip(video_path)\n",
        "\n",
        "  # Get the duration of the original video\n",
        "  video_duration = video.duration\n",
        "\n",
        "  # Load the new audio file that you want to add\n",
        "  new_audio = AudioFileClip(new_audio_path)\n",
        "\n",
        "  #Trim the new audio to match the duration of the video\n",
        "  new_audio = new_audio.subclip(0, video_duration)\n",
        "\n",
        "  # Remove the existing audio from the video\n",
        "  new_video = video.set_audio(None)\n",
        "\n",
        "  # Add the new audio to the video\n",
        "  new_video = new_video.set_audio(new_audio)\n",
        "\n",
        "  # Write the output video with the new audio\n",
        "  save = new_video.write_videofile(\"output_video.mp4\", codec='libx264')\n",
        "\n",
        "  # Close the video and audio files\n",
        "  new_video.close()\n",
        "  new_audio.close()\n",
        "\n",
        "  return save\n"
      ]
    },
    {
      "cell_type": "code",
      "execution_count": 3,
      "metadata": {},
      "outputs": [
        {
          "name": "stdout",
          "output_type": "stream",
          "text": [
            "Moviepy - Building video output_video.mp4.\n",
            "MoviePy - Writing audio in output_videoTEMP_MPY_wvf_snd.mp3\n"
          ]
        },
        {
          "name": "stderr",
          "output_type": "stream",
          "text": [
            "                                                                   \r"
          ]
        },
        {
          "name": "stdout",
          "output_type": "stream",
          "text": [
            "MoviePy - Done.\n",
            "Moviepy - Writing video output_video.mp4\n",
            "\n"
          ]
        },
        {
          "name": "stderr",
          "output_type": "stream",
          "text": [
            "                                                              \r"
          ]
        },
        {
          "name": "stdout",
          "output_type": "stream",
          "text": [
            "Moviepy - Done !\n",
            "Moviepy - video ready output_video.mp4\n"
          ]
        }
      ],
      "source": [
        "edit_audio('video_sample.mp4', 'audio_sample.mp3')"
      ]
    }
  ],
  "metadata": {
    "accelerator": "GPU",
    "colab": {
      "gpuType": "T4",
      "provenance": []
    },
    "kernelspec": {
      "display_name": "Python 3",
      "name": "python3"
    },
    "language_info": {
      "codemirror_mode": {
        "name": "ipython",
        "version": 3
      },
      "file_extension": ".py",
      "mimetype": "text/x-python",
      "name": "python",
      "nbconvert_exporter": "python",
      "pygments_lexer": "ipython3",
      "version": "3.10.0"
    }
  },
  "nbformat": 4,
  "nbformat_minor": 0
}
